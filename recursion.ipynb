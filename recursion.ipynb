{
 "cells": [
  {
   "cell_type": "markdown",
   "metadata": {},
   "source": [
    "# Recursion"
   ]
  },
  {
   "cell_type": "markdown",
   "metadata": {},
   "source": [
    "<a id=\"sec1\"></a>\n",
    "A **recursive function**  is a function that calls itself.\n",
    "* Why would we want that? \n",
    "    - To solve problems that can be broken down to smaller (easier) versions of the same problem\n",
    "    \n",
    "    \n",
    "A recursive approach to problem solving has two main parts:\n",
    "  * **Base case(s).**  When the problem is so small, we solve it directly, without having to reduce it any further\n",
    "  * **Recursive step.**  Does the following things: \n",
    "       - Performs an action that \"contributes to the solution\"\n",
    "       - Reduces the problem to a smaller version of the same problem, and calls the function on this smaller subproblem\n",
    "  * The recursive step is a form of \"wishful thinking\"\n",
    "  * In CS136/256, recursion and \"wishful thinking\" will be introduced more formally as the induction (or inductive) hypothesis"
   ]
  },
  {
   "cell_type": "markdown",
   "metadata": {},
   "source": [
    "## From Recursive Ideas to Recursive Programs\n",
    "\n",
    "Writing recursive functions is easy once you pin down the underlying recursive ideas! Try to spend some time thinking of the recursive definition of the program you're trying to implement with pen and paper first before you try to write any code.\n",
    "\n",
    "### Example: $a^n$\n",
    "\n",
    "The recursive definition:\n",
    "\n",
    "$$\\begin{align*}\n",
    "a^0 &= 1 \\\\\n",
    "a^n &= a * a^{n-1}\n",
    "\\end{align*}\n",
    "$$\n",
    "\n",
    "which can be translated into the following recursive function."
   ]
  },
  {
   "cell_type": "code",
   "execution_count": null,
   "metadata": {},
   "outputs": [],
   "source": [
    "def power(a, n):\n",
    "    \"\"\"\n",
    "    Returns a^n. Assumes n >= 0.\n",
    "    \"\"\"\n",
    "    if n == 0:\n",
    "        return 1\n",
    "    else:\n",
    "        return a * power(a, n-1)"
   ]
  },
  {
   "cell_type": "code",
   "execution_count": null,
   "metadata": {},
   "outputs": [],
   "source": [
    "print(power(5, 0))\n",
    "print(power(5, 4))"
   ]
  },
  {
   "cell_type": "code",
   "execution_count": null,
   "metadata": {},
   "outputs": [],
   "source": [
    "# what happens when we're given an input n < 0?\n",
    "print(power(5, -1))"
   ]
  },
  {
   "cell_type": "markdown",
   "metadata": {},
   "source": [
    "### Example: Fibonacci series\n",
    "\n",
    "The recursive definition:\n",
    "\n",
    "$$\\begin{align*}\n",
    "F_0 &= 0 \\\\\n",
    "F_1 &= 1 \\\\\n",
    "F^n &= F_{n-1} + F_{n-2}\n",
    "\\end{align*}\n",
    "$$\n",
    "\n",
    "which can be translated into the following recursive function."
   ]
  },
  {
   "cell_type": "code",
   "execution_count": null,
   "metadata": {},
   "outputs": [],
   "source": [
    "def fibonacci(n):\n",
    "    \"\"\"\n",
    "    Returns nth Fibonnaci number\n",
    "    \"\"\"\n",
    "    if n <= 1:\n",
    "        return n\n",
    "    else:\n",
    "        return fibonacci(n-1) + fibonacci(n-2)"
   ]
  },
  {
   "cell_type": "code",
   "execution_count": null,
   "metadata": {},
   "outputs": [],
   "source": [
    "print(fibonacci(5))\n",
    "print(fibonacci(6))\n",
    "print(fibonacci(7))"
   ]
  },
  {
   "cell_type": "markdown",
   "metadata": {},
   "source": [
    "## Recursion vs Iteration\n",
    "\n",
    "**Example 1:**`countDown` :  Write a function that prints integers from `n` down to `1`\n",
    "\n",
    "* Iterative approach: Using loops"
   ]
  },
  {
   "cell_type": "code",
   "execution_count": null,
   "metadata": {},
   "outputs": [],
   "source": [
    "def countDownIterative(n):\n",
    "    for i in range(n, 0, -1):\n",
    "        print(i)"
   ]
  },
  {
   "cell_type": "code",
   "execution_count": null,
   "metadata": {},
   "outputs": [],
   "source": [
    "countDownIterative(5)"
   ]
  },
  {
   "cell_type": "markdown",
   "metadata": {},
   "source": [
    "## First recursion: `countDown`\n",
    "\n",
    "Notice the repeated printing, despite the lack of an explicit `for` or `while` loop in the body of the function.  "
   ]
  },
  {
   "cell_type": "code",
   "execution_count": null,
   "metadata": {},
   "outputs": [],
   "source": [
    "def countDown(n):\n",
    "    '''Prints numbers from n down to 1''' \n",
    "    if n == 1:  # Base case\n",
    "        print(n)  \n",
    "    else: # Recursive case: n > 1: \n",
    "        print(n)\n",
    "        countDown(n-1)"
   ]
  },
  {
   "cell_type": "code",
   "execution_count": null,
   "metadata": {},
   "outputs": [],
   "source": [
    "result = countDown(5)"
   ]
  },
  {
   "cell_type": "code",
   "execution_count": null,
   "metadata": {},
   "outputs": [],
   "source": [
    "result = countDown(10)"
   ]
  },
  {
   "cell_type": "markdown",
   "metadata": {},
   "source": [
    "## Recursive `countUp`\n",
    "\n",
    "Define a recursive function `countUp` that counts up from 1 to `n` rather than `n` to 1. `countUp(5)` should print:\n",
    "\n",
    "```\n",
    "1  \n",
    "2  \n",
    "3  \n",
    "4  \n",
    "5\n",
    "```"
   ]
  },
  {
   "cell_type": "code",
   "execution_count": null,
   "metadata": {},
   "outputs": [],
   "source": [
    "def countUp(n):\n",
    "    '''Prints out integers from 1 up to n'''\n",
    "    if n == 1:\n",
    "        print(n)\n",
    "    else:\n",
    "        countUp(n-1)\n",
    "        print(n)      "
   ]
  },
  {
   "cell_type": "code",
   "execution_count": null,
   "metadata": {},
   "outputs": [],
   "source": [
    "countUp(5)"
   ]
  },
  {
   "cell_type": "code",
   "execution_count": null,
   "metadata": {},
   "outputs": [],
   "source": [
    "countUp(3)"
   ]
  },
  {
   "cell_type": "markdown",
   "metadata": {},
   "source": [
    "## `countDownUp`\n",
    "\n",
    "How about a recursive function that counts down *and* up? This one is a bit more complex, \n",
    "but very elegant. "
   ]
  },
  {
   "cell_type": "code",
   "execution_count": null,
   "metadata": {},
   "outputs": [],
   "source": [
    "def countDownUp(n):\n",
    "    \"\"\"Prints integers from n down to 1\n",
    "    and then from 1 up to n.\"\"\"\n",
    "    if n == 1:\n",
    "        print(n)\n",
    "    else:\n",
    "        print(n)\n",
    "        result = countDownUp(n-1)\n",
    "        print(n)\n"
   ]
  },
  {
   "cell_type": "code",
   "execution_count": null,
   "metadata": {},
   "outputs": [],
   "source": [
    "result = countDownUp(4)"
   ]
  },
  {
   "cell_type": "code",
   "execution_count": null,
   "metadata": {},
   "outputs": [],
   "source": [
    "result = countDownUp(10)"
   ]
  },
  {
   "cell_type": "markdown",
   "metadata": {},
   "source": [
    "## Gotcha-s in Recursion\n",
    "\n",
    "### Gotcha #1: Subproblem in not getting smaller  \n",
    "\n",
    "Below is an example of a common mistake when using recursion.  \n",
    "\n",
    "Can you figure out what is wrong in the code without running it?"
   ]
  },
  {
   "cell_type": "code",
   "execution_count": null,
   "metadata": {},
   "outputs": [],
   "source": [
    "def countDownGotcha(n):\n",
    "    '''Prints numbers from n down to 1''' \n",
    "    if n == 1:  # Base case\n",
    "        print(n)\n",
    "    else: # Recursive case: n>0: \n",
    "        print(n)\n",
    "        countDownGotcha(n)"
   ]
  },
  {
   "cell_type": "code",
   "execution_count": null,
   "metadata": {},
   "outputs": [],
   "source": [
    "result = countDownGotcha(10)"
   ]
  },
  {
   "cell_type": "markdown",
   "metadata": {},
   "source": [
    "If you run the line above, you should see toward the end of the output, the dreaded error:  \n",
    "\n",
    "`RuntimeError: maximum recursion depth exceeded while calling a Python object`  \n",
    "\n",
    "It means that the memory allocated to your program doesn't have space anymore for all the opened execution frames that are opened while your function is recursively invoking itself, endlessly!"
   ]
  },
  {
   "cell_type": "markdown",
   "metadata": {},
   "source": [
    "### Gotcha #2: Missing/Unreachable the base case  \n",
    "\n",
    "The following example will also lead to (almost) **infinite recursion**. Can you explain why?  \n",
    "How can you fix the problem?"
   ]
  },
  {
   "cell_type": "code",
   "execution_count": null,
   "metadata": {},
   "outputs": [],
   "source": [
    "def printHalvesGotcha(n): \n",
    "   \"\"\"Prints n, n/2, down to ... 1\"\"\"\n",
    "   if n > 0:\n",
    "        print(n)\n",
    "        return printHalvesGotcha(n/2)"
   ]
  },
  {
   "cell_type": "code",
   "execution_count": null,
   "metadata": {},
   "outputs": [],
   "source": [
    "result = printHalvesGotcha(10)"
   ]
  }
 ],
 "metadata": {
  "kernelspec": {
   "display_name": "Python 3",
   "language": "python",
   "name": "python3"
  },
  "language_info": {
   "codemirror_mode": {
    "name": "ipython",
    "version": 3
   },
   "file_extension": ".py",
   "mimetype": "text/x-python",
   "name": "python",
   "nbconvert_exporter": "python",
   "pygments_lexer": "ipython3",
   "version": "3.10.9"
  },
  "vscode": {
   "interpreter": {
    "hash": "93c843fa688db2cf10ee06edcee2e24de13e9806bcfe66c2febf0a33cc2802c1"
   }
  }
 },
 "nbformat": 4,
 "nbformat_minor": 4
}
